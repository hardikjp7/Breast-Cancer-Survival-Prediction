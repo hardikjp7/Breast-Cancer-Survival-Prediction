{
 "cells": [
  {
   "cell_type": "code",
   "execution_count": null,
   "metadata": {
    "execution": {
     "iopub.execute_input": "2023-04-05T06:32:55.201375Z",
     "iopub.status.busy": "2023-04-05T06:32:55.200893Z",
     "iopub.status.idle": "2023-04-05T06:32:55.248709Z",
     "shell.execute_reply": "2023-04-05T06:32:55.247151Z",
     "shell.execute_reply.started": "2023-04-05T06:32:55.201295Z"
    }
   },
   "outputs": [],
   "source": [
    "import pandas as pd\n",
    "import numpy as np\n",
    "import matplotlib.pyplot as plt\n",
    "\n",
    "plt.style.use('ggplot')"
   ]
  },
  {
   "cell_type": "code",
   "execution_count": null,
   "metadata": {
    "execution": {
     "iopub.execute_input": "2023-04-05T06:32:55.251391Z",
     "iopub.status.busy": "2023-04-05T06:32:55.250955Z",
     "iopub.status.idle": "2023-04-05T06:32:55.330295Z",
     "shell.execute_reply": "2023-04-05T06:32:55.328465Z",
     "shell.execute_reply.started": "2023-04-05T06:32:55.251348Z"
    }
   },
   "outputs": [],
   "source": [
    "df = pd.read_csv(r'C:\\Users\\hardi\\Breast-Cancer-Survival-Prediction\\data\\data.csv')\n",
    "df.head()"
   ]
  },
  {
   "cell_type": "markdown",
   "metadata": {},
   "source": [
    "## Quick EDA"
   ]
  },
  {
   "cell_type": "code",
   "execution_count": null,
   "metadata": {
    "execution": {
     "iopub.execute_input": "2023-04-05T06:32:55.332702Z",
     "iopub.status.busy": "2023-04-05T06:32:55.332198Z",
     "iopub.status.idle": "2023-04-05T06:32:55.368884Z",
     "shell.execute_reply": "2023-04-05T06:32:55.366911Z",
     "shell.execute_reply.started": "2023-04-05T06:32:55.332648Z"
    }
   },
   "outputs": [],
   "source": [
    "df.info()"
   ]
  },
  {
   "cell_type": "code",
   "execution_count": null,
   "metadata": {
    "execution": {
     "iopub.execute_input": "2023-04-05T06:32:55.373577Z",
     "iopub.status.busy": "2023-04-05T06:32:55.372726Z",
     "iopub.status.idle": "2023-04-05T06:32:55.414976Z",
     "shell.execute_reply": "2023-04-05T06:32:55.413425Z",
     "shell.execute_reply.started": "2023-04-05T06:32:55.373356Z"
    }
   },
   "outputs": [],
   "source": [
    "df.describe(include='object').T"
   ]
  },
  {
   "cell_type": "code",
   "execution_count": null,
   "metadata": {
    "execution": {
     "iopub.execute_input": "2023-04-05T06:32:55.417028Z",
     "iopub.status.busy": "2023-04-05T06:32:55.416623Z",
     "iopub.status.idle": "2023-04-05T06:32:55.430922Z",
     "shell.execute_reply": "2023-04-05T06:32:55.429066Z",
     "shell.execute_reply.started": "2023-04-05T06:32:55.416992Z"
    }
   },
   "outputs": [],
   "source": [
    "df.Gender.value_counts()  ## mostly in females"
   ]
  },
  {
   "cell_type": "code",
   "execution_count": null,
   "metadata": {
    "execution": {
     "iopub.execute_input": "2023-04-05T06:32:55.433499Z",
     "iopub.status.busy": "2023-04-05T06:32:55.432963Z",
     "iopub.status.idle": "2023-04-05T06:32:55.803038Z",
     "shell.execute_reply": "2023-04-05T06:32:55.801523Z",
     "shell.execute_reply.started": "2023-04-05T06:32:55.433439Z"
    }
   },
   "outputs": [],
   "source": [
    "ax = df.Patient_Status.value_counts().sort_index().plot(kind='bar',figsize=(7,7),\n",
    "                                                       title='Distribution of the Target variable')\n",
    "ax.set_xlabel('Patient Status')"
   ]
  },
  {
   "cell_type": "markdown",
   "metadata": {},
   "source": [
    "Since the target variable is unbalanced, there is a need to oversample or undersample the target variables so that the model can generalize better."
   ]
  },
  {
   "cell_type": "code",
   "execution_count": null,
   "metadata": {
    "execution": {
     "iopub.execute_input": "2023-04-05T06:32:55.805976Z",
     "iopub.status.busy": "2023-04-05T06:32:55.805460Z",
     "iopub.status.idle": "2023-04-05T06:32:56.036160Z",
     "shell.execute_reply": "2023-04-05T06:32:56.033926Z",
     "shell.execute_reply.started": "2023-04-05T06:32:55.805924Z"
    }
   },
   "outputs": [],
   "source": [
    "df.Tumour_Stage.value_counts().sort_index().plot(kind='pie',figsize=(7,7),subplots=True,\n",
    "                                                title='No of patients with differnt stages of cancer',\n",
    "                                                ylabel=\" \",legend=False,autopct='%1.3f%%')"
   ]
  },
  {
   "cell_type": "code",
   "execution_count": null,
   "metadata": {
    "execution": {
     "iopub.execute_input": "2023-04-05T06:32:56.041367Z",
     "iopub.status.busy": "2023-04-05T06:32:56.039351Z",
     "iopub.status.idle": "2023-04-05T06:32:56.463713Z",
     "shell.execute_reply": "2023-04-05T06:32:56.462225Z",
     "shell.execute_reply.started": "2023-04-05T06:32:56.041287Z"
    }
   },
   "outputs": [],
   "source": [
    "df.Histology.value_counts().plot(kind='bar',subplots=True,legend=False,figsize=(7,7))"
   ]
  },
  {
   "cell_type": "markdown",
   "metadata": {},
   "source": [
    "## Preprocessing Pipeline"
   ]
  },
  {
   "cell_type": "code",
   "execution_count": null,
   "metadata": {
    "execution": {
     "iopub.execute_input": "2023-04-05T06:32:56.465999Z",
     "iopub.status.busy": "2023-04-05T06:32:56.465554Z",
     "iopub.status.idle": "2023-04-05T06:32:57.986058Z",
     "shell.execute_reply": "2023-04-05T06:32:57.984191Z",
     "shell.execute_reply.started": "2023-04-05T06:32:56.465957Z"
    }
   },
   "outputs": [],
   "source": [
    "from sklearn.compose import ColumnTransformer\n",
    "from sklearn.impute import SimpleImputer\n",
    "from sklearn.pipeline import Pipeline\n",
    "from sklearn.preprocessing import OneHotEncoder, LabelEncoder, StandardScaler, OrdinalEncoder"
   ]
  },
  {
   "cell_type": "code",
   "execution_count": null,
   "metadata": {
    "execution": {
     "iopub.execute_input": "2023-04-05T06:32:57.992900Z",
     "iopub.status.busy": "2023-04-05T06:32:57.992448Z",
     "iopub.status.idle": "2023-04-05T06:32:58.181330Z",
     "shell.execute_reply": "2023-04-05T06:32:58.180354Z",
     "shell.execute_reply.started": "2023-04-05T06:32:57.992861Z"
    }
   },
   "outputs": [],
   "source": [
    "# Drop ER and PR status\n",
    "df.drop(['ER status', 'PR status'], axis=1, inplace=True)\n",
    "\n",
    "# Encode Tumour_Stage, Histology, and Surgery_type using OrdinalEncoder\n",
    "ordinal_encoder = OrdinalEncoder(categories=[['I', 'II', 'III', 'IV'], \n",
    "                                              ['Infiltrating Ductal Carcinoma', 'Infiltrating Lobular Carcinoma', 'Mucinous Carcinoma'],\n",
    "                                              ['Other', 'Lumpectomy', 'Modified Radical Mastectomy','Simple Mastectomy']])\n",
    "df[['Tumour_Stage', 'Histology', 'Surgery_type']] = ordinal_encoder.fit_transform(df[['Tumour_Stage', 'Histology', 'Surgery_type']])\n",
    "\n",
    "# Encode Gender and HER2 status using binary encoding\n",
    "df = pd.get_dummies(df, columns=['Gender', 'HER2 status'], drop_first=True)\n",
    "\n",
    "# Extract year, month, and day from Date_of_Surgery and Date_of_Last_Visit\n",
    "df['Surgery_Year'] = pd.DatetimeIndex(df['Date_of_Surgery']).year\n",
    "df['Surgery_Month'] = pd.DatetimeIndex(df['Date_of_Surgery']).month\n",
    "df['Surgery_Day'] = pd.DatetimeIndex(df['Date_of_Surgery']).day\n",
    "df.drop('Date_of_Surgery', axis=1, inplace=True)\n",
    "\n",
    "df['LastVisit_Year'] = pd.DatetimeIndex(df['Date_of_Last_Visit']).year\n",
    "df['LastVisit_Month'] = pd.DatetimeIndex(df['Date_of_Last_Visit']).month\n",
    "df['LastVisit_Day'] = pd.DatetimeIndex(df['Date_of_Last_Visit']).day\n",
    "df.drop('Date_of_Last_Visit', axis=1, inplace=True)"
   ]
  },
  {
   "cell_type": "code",
   "execution_count": null,
   "metadata": {
    "execution": {
     "iopub.execute_input": "2023-04-05T06:32:58.183418Z",
     "iopub.status.busy": "2023-04-05T06:32:58.182744Z",
     "iopub.status.idle": "2023-04-05T06:32:58.192470Z",
     "shell.execute_reply": "2023-04-05T06:32:58.190961Z",
     "shell.execute_reply.started": "2023-04-05T06:32:58.183381Z"
    }
   },
   "outputs": [],
   "source": [
    "numerical_columns = [column for column in df.columns if df[column].dtype in ['int64','float64']]\n",
    "\n",
    "numerical_preprocessor = Pipeline(steps=[\n",
    "    (\"imputer\",SimpleImputer(strategy='mean')),\n",
    "    (\"scaler\",StandardScaler())\n",
    "])\n",
    "\n",
    "categorical_preprocessor = Pipeline(steps=[\n",
    "    (\"imputer\",SimpleImputer(strategy='most_frequent')),\n",
    "    (\"onehot\",OneHotEncoder(handle_unknown='ignore'))\n",
    "])\n",
    "\n",
    "preprocessor = ColumnTransformer(\n",
    "transformers=[\n",
    "    (\"numerical\",numerical_preprocessor,numerical_columns)\n",
    "])"
   ]
  },
  {
   "cell_type": "code",
   "execution_count": null,
   "metadata": {
    "execution": {
     "iopub.execute_input": "2023-04-05T06:32:58.194842Z",
     "iopub.status.busy": "2023-04-05T06:32:58.194029Z",
     "iopub.status.idle": "2023-04-05T06:32:58.229058Z",
     "shell.execute_reply": "2023-04-05T06:32:58.227399Z",
     "shell.execute_reply.started": "2023-04-05T06:32:58.194789Z"
    }
   },
   "outputs": [],
   "source": [
    "X = df.drop(\"Patient_Status\",axis=1)\n",
    "y = df.Patient_Status\n",
    "\n",
    "from sklearn.model_selection import train_test_split\n",
    "\n",
    "X_train,X_test,y_train,y_test = train_test_split(X,\n",
    "                                                y,\n",
    "                                                test_size=0.2,\n",
    "                                                random_state=42)\n",
    "\n",
    "X_train = preprocessor.fit_transform(X_train)\n",
    "X_test = preprocessor.transform(X_test)\n",
    "\n",
    "label_encoder = LabelEncoder()\n",
    "\n",
    "y_train = label_encoder.fit_transform(y_train)\n",
    "y_test = label_encoder.transform(y_test)"
   ]
  },
  {
   "cell_type": "markdown",
   "metadata": {},
   "source": [
    "## Evaluating accuracy across all models"
   ]
  },
  {
   "cell_type": "code",
   "execution_count": null,
   "metadata": {
    "execution": {
     "iopub.execute_input": "2023-04-05T06:32:58.231881Z",
     "iopub.status.busy": "2023-04-05T06:32:58.230452Z",
     "iopub.status.idle": "2023-04-05T06:33:12.784955Z",
     "shell.execute_reply": "2023-04-05T06:33:12.783355Z",
     "shell.execute_reply.started": "2023-04-05T06:32:58.231830Z"
    }
   },
   "outputs": [],
   "source": [
    "!pip install lazypredict"
   ]
  },
  {
   "cell_type": "code",
   "execution_count": null,
   "metadata": {
    "execution": {
     "iopub.execute_input": "2023-04-05T06:33:12.787496Z",
     "iopub.status.busy": "2023-04-05T06:33:12.787097Z",
     "iopub.status.idle": "2023-04-05T06:33:18.373132Z",
     "shell.execute_reply": "2023-04-05T06:33:18.371680Z",
     "shell.execute_reply.started": "2023-04-05T06:33:12.787460Z"
    }
   },
   "outputs": [],
   "source": [
    "from lazypredict.Supervised import LazyClassifier\n",
    "\n",
    "clf = LazyClassifier(verbose=0,ignore_warnings=True,custom_metric=None)\n",
    "model,predictions = clf.fit(X_train,X_test,y_train,y_test)\n",
    "print(predictions)"
   ]
  },
  {
   "cell_type": "markdown",
   "metadata": {},
   "source": [
    "## Neural Network"
   ]
  },
  {
   "cell_type": "code",
   "execution_count": null,
   "metadata": {
    "execution": {
     "iopub.execute_input": "2023-04-05T06:33:18.375697Z",
     "iopub.status.busy": "2023-04-05T06:33:18.375196Z",
     "iopub.status.idle": "2023-04-05T06:33:21.409651Z",
     "shell.execute_reply": "2023-04-05T06:33:21.408115Z",
     "shell.execute_reply.started": "2023-04-05T06:33:18.375645Z"
    }
   },
   "outputs": [],
   "source": [
    "import torch\n",
    "\n",
    "X_train_tensor = torch.from_numpy(X_train)\n",
    "X_test_tensor = torch.from_numpy(X_test)\n",
    "y_train_tensor = torch.from_numpy(y_train)\n",
    "y_test_tensor = torch.from_numpy(y_test)"
   ]
  },
  {
   "cell_type": "code",
   "execution_count": null,
   "metadata": {
    "execution": {
     "iopub.execute_input": "2023-04-05T07:01:46.376554Z",
     "iopub.status.busy": "2023-04-05T07:01:46.376115Z",
     "iopub.status.idle": "2023-04-05T07:01:46.388949Z",
     "shell.execute_reply": "2023-04-05T07:01:46.387602Z",
     "shell.execute_reply.started": "2023-04-05T07:01:46.376518Z"
    }
   },
   "outputs": [],
   "source": [
    "import torch.nn as nn\n",
    "import torch.optim as optim\n",
    "\n",
    "class PyTorchModel(nn.Module):\n",
    "    def __init__(self, input_shape, num_classes, units=[16, 16, 16, 16],dropout=0.1, learning_rate=8e-3):\n",
    "        super(PyTorchModel,self).__init__()\n",
    "        self.fc1 = nn.Linear(input_shape[1], units[0])\n",
    "        self.fc2 = nn.Linear(units[0], units[1])\n",
    "        self.fc3 = nn.Linear(units[1], units[2])\n",
    "        self.fc4 = nn.Linear(units[2], units[3])\n",
    "        self.fc5 = nn.Linear(units[3], num_classes)\n",
    "\n",
    "        self.relu = nn.ReLU()\n",
    "        self.softmax = nn.Softmax(dim=1)\n",
    "        self.dropout = nn.Dropout(p=dropout)\n",
    "\n",
    "    def forward(self, x):\n",
    "        x = x.to(self.fc1.weight.dtype)\n",
    "        x = self.relu(self.fc1(x))\n",
    "        x = self.dropout(x)\n",
    "        x = self.relu(self.fc2(x))\n",
    "        x = self.dropout(x)\n",
    "        x = self.relu(self.fc3(x))\n",
    "        x = self.dropout(x)\n",
    "        x = self.relu(self.fc4(x))\n",
    "        x = self.dropout(x)\n",
    "        x = self.softmax(self.fc5(x))\n",
    "        return x"
   ]
  },
  {
   "cell_type": "code",
   "execution_count": null,
   "metadata": {
    "execution": {
     "iopub.execute_input": "2023-04-05T06:59:59.776266Z",
     "iopub.status.busy": "2023-04-05T06:59:59.775824Z",
     "iopub.status.idle": "2023-04-05T06:59:59.784069Z",
     "shell.execute_reply": "2023-04-05T06:59:59.782995Z",
     "shell.execute_reply.started": "2023-04-05T06:59:59.776230Z"
    }
   },
   "outputs": [],
   "source": [
    "input_shape = (None, X_train_tensor.shape[1])\n",
    "num_classes=3\n",
    "\n",
    "# Define the model, optimizer and loss function\n",
    "model = PyTorchModel(input_shape=input_shape,num_classes=num_classes)\n",
    "optimizer = optim.Adam(model.parameters(),lr=8e-3)\n",
    "criterion = nn.CrossEntropyLoss()"
   ]
  },
  {
   "cell_type": "code",
   "execution_count": null,
   "metadata": {
    "execution": {
     "iopub.execute_input": "2023-04-05T06:33:21.483416Z",
     "iopub.status.busy": "2023-04-05T06:33:21.482944Z",
     "iopub.status.idle": "2023-04-05T06:33:21.494861Z",
     "shell.execute_reply": "2023-04-05T06:33:21.492794Z",
     "shell.execute_reply.started": "2023-04-05T06:33:21.483373Z"
    }
   },
   "outputs": [],
   "source": [
    "def train_loop(model, optimizer, criterion, X_train, y_train, X_val, y_val, epochs=10, batch_size=1):\n",
    "    for epoch in range(epochs):\n",
    "        # Train the model on batches of data\n",
    "        for i in range(0, len(X_train), batch_size):\n",
    "            # Extract a batch of data\n",
    "            batch_X = X_train[i:i+batch_size]\n",
    "            batch_y = y_train[i:i+batch_size]\n",
    "            \n",
    "            # Forward pass\n",
    "            output = model(batch_X)\n",
    "            # Convert batch_y to Long tensor\n",
    "            batch_y = batch_y.long()\n",
    "            loss = criterion(output, batch_y)\n",
    "            \n",
    "            # Backward pass and optimization\n",
    "            optimizer.zero_grad()\n",
    "            loss.backward()\n",
    "            optimizer.step()\n",
    "            \n",
    "        # Evaluate the model on validation data\n",
    "        with torch.no_grad():\n",
    "            val_output = model(X_val)\n",
    "            # Convert y_val to Long tensor\n",
    "            y_val = y_val.long()\n",
    "            val_loss = criterion(val_output, y_val)\n",
    "            val_accuracy = (val_output.argmax(dim=1) == y_val).float().mean()\n",
    "            \n",
    "        # Print the result for an epoch\n",
    "        print(f\"Epoch:{epoch+1}  \"\n",
    "              f\"train_loss:{loss:.4f}  \"\n",
    "              f\"val_loss:{val_loss:.4f}  \"\n",
    "              f\"val_acc:{val_accuracy:.4f}\")\n",
    "\n",
    "\n"
   ]
  },
  {
   "cell_type": "code",
   "execution_count": null,
   "metadata": {
    "execution": {
     "iopub.execute_input": "2023-04-05T06:33:21.497937Z",
     "iopub.status.busy": "2023-04-05T06:33:21.497362Z",
     "iopub.status.idle": "2023-04-05T06:33:29.043932Z",
     "shell.execute_reply": "2023-04-05T06:33:29.042400Z",
     "shell.execute_reply.started": "2023-04-05T06:33:21.497878Z"
    }
   },
   "outputs": [],
   "source": [
    "# Train the model\n",
    "train_loop(model, optimizer, criterion, X_train_tensor, y_train_tensor,\n",
    "           X_test_tensor, y_test_tensor, epochs=20)"
   ]
  },
  {
   "cell_type": "markdown",
   "metadata": {},
   "source": [
    "The neural net can further be improved by adjusting no. of units, learning rate, increasing the no. of layers, etc."
   ]
  },
  {
   "cell_type": "markdown",
   "metadata": {},
   "source": []
  }
 ],
 "metadata": {
  "kaggle": {
   "accelerator": "none",
   "dataSources": [
    {
     "datasetId": 3040088,
     "sourceId": 5225205,
     "sourceType": "datasetVersion"
    }
   ],
   "dockerImageVersionId": 30445,
   "isGpuEnabled": false,
   "isInternetEnabled": true,
   "language": "python",
   "sourceType": "notebook"
  },
  "kernelspec": {
   "display_name": "Python 3 (ipykernel)",
   "language": "python",
   "name": "python3"
  },
  "language_info": {
   "codemirror_mode": {
    "name": "ipython",
    "version": 3
   },
   "file_extension": ".py",
   "mimetype": "text/x-python",
   "name": "python",
   "nbconvert_exporter": "python",
   "pygments_lexer": "ipython3",
   "version": "3.11.4"
  }
 },
 "nbformat": 4,
 "nbformat_minor": 4
}
